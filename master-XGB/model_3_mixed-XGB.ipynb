{
 "cells": [
  {
   "cell_type": "code",
   "execution_count": 2,
   "metadata": {
    "_cell_guid": "3628f30d-0bcd-4b17-ab45-078685b562fd",
    "_uuid": "7b82654deff3ade5ea699e575401fd06317fbff7",
    "collapsed": true
   },
   "outputs": [],
   "source": [
    "import numpy as np\n",
    "import pandas as pd\n",
    "#import matplotlib.pyplot as plt\n",
    "#import seaborn as sns\n",
    "from sklearn import model_selection, preprocessing\n",
    "import xgboost as xgb\n",
    "import datetime\n",
    "import warnings\n",
    "warnings.filterwarnings(\"ignore\")"
   ]
  },
  {
   "cell_type": "markdown",
   "metadata": {},
   "source": [
    "### 1st model"
   ]
  },
  {
   "cell_type": "code",
   "execution_count": 3,
   "metadata": {
    "_cell_guid": "74461af7-cec7-4f03-8fe5-65097029111e",
    "_uuid": "bb992c722a378f7f8e97bffb9a83b6821f197d68",
    "collapsed": true
   },
   "outputs": [],
   "source": [
    "#load files\n",
    "train = pd.read_csv('../input/train.csv', parse_dates=['timestamp'])\n",
    "test = pd.read_csv('../input/test.csv', parse_dates=['timestamp'])\n",
    "id_test = test['id']"
   ]
  },
  {
   "cell_type": "code",
   "execution_count": 54,
   "metadata": {
    "_uuid": "9a1eadfbd812a9151bd128dce6a81dca4e4092c5",
    "collapsed": true
   },
   "outputs": [],
   "source": [
    "#clean data\n",
    "#IF LIFE SQ >= FULL SQ MAKE LIFE SQ NP.NAN\n",
    "bad_index = train[train.life_sq > train.full_sq].index\n",
    "train.loc[bad_index, \"life_sq\"] = np.NaN\n",
    "equal_index = [601,1896,2791]\n",
    "test.loc[equal_index, \"life_sq\"] = test.loc[equal_index, \"full_sq\"]\n",
    "bad_index = test[test.life_sq > test.full_sq].index\n",
    "test.loc[bad_index, \"life_sq\"] = np.NaN\n",
    "\n",
    "# IF LIFE SQ < 5 NP.NAN\n",
    "bad_index = train[train.life_sq < 5].index\n",
    "train.loc[bad_index, \"life_sq\"] = np.NaN\n",
    "bad_index = test[test.life_sq < 5].index\n",
    "test.loc[bad_index, \"life_sq\"] = np.NaN\n",
    "\n",
    "# IF FULL SQ < 5 NP.NAN\n",
    "bad_index = train[train.full_sq < 5].index\n",
    "train.loc[bad_index, \"full_sq\"] = np.NaN\n",
    "bad_index = test[test.full_sq < 5].index\n",
    "test.loc[bad_index, \"full_sq\"] = np.NaN\n",
    "\n",
    "# KITCH SQ < LIFE SQ\n",
    "kitch_is_build_year = [13117]\n",
    "train.loc[kitch_is_build_year, \"build_year\"] = train.loc[kitch_is_build_year, \"kitch_sq\"]\n",
    "bad_index = train[train.kitch_sq >= train.life_sq].index\n",
    "train.loc[bad_index, \"kitch_sq\"] = np.NaN\n",
    "bad_index = test[test.kitch_sq >= test.life_sq].index\n",
    "test.loc[bad_index, \"kitch_sq\"] = np.NaN\n",
    "\n",
    "# IF KITCH SQ == 0 OR 1 NP.NAN\n",
    "bad_index = train[(train.kitch_sq == 0).values + (train.kitch_sq == 1).values].index\n",
    "train.loc[bad_index, \"kitch_sq\"] = np.NaN\n",
    "bad_index = test[(test.kitch_sq == 0).values + (test.kitch_sq == 1).values].index\n",
    "test.loc[bad_index, \"kitch_sq\"] = np.NaN\n",
    "\n",
    "# LIFE SQ / FULL SQ MUST BE CONSISTENCY (0.3 IS A CONSERVATIVE RATIO)\n",
    "bad_index = train[(train.full_sq > 210) & (train.life_sq / train.full_sq < 0.3)].index\n",
    "train.loc[bad_index, \"full_sq\"] = np.NaN\n",
    "bad_index = test[(test.full_sq > 150) & (test.life_sq / test.full_sq < 0.3)].index\n",
    "test.loc[bad_index, \"full_sq\"] = np.NaN\n",
    "\n",
    "# CHECK FOR OUTLIERS\n",
    "bad_index = train[train.life_sq > 300].index\n",
    "train.loc[bad_index, [\"life_sq\", \"full_sq\"]] = np.NaN\n",
    "bad_index = test[test.life_sq > 200].index\n",
    "test.loc[bad_index, [\"life_sq\", \"full_sq\"]] = np.NaN"
   ]
  },
  {
   "cell_type": "code",
   "execution_count": 59,
   "metadata": {
    "_uuid": "03c0929a8bb500160ea876951b480fa28c609ea2",
    "collapsed": true
   },
   "outputs": [],
   "source": [
    "# CHECK BUILD YEAR FOR EACH PRODUCT TYPE\n",
    "train.product_type.value_counts(normalize= True)\n",
    "test.product_type.value_counts(normalize= True)\n",
    "\n",
    "# IF BUILD YEAR < 1500 NP.NAN\n",
    "bad_index = train[train.build_year < 1500].index\n",
    "train.loc[bad_index, \"build_year\"] = np.NaN\n",
    "bad_index = test[test.build_year < 1500].index\n",
    "test.loc[bad_index, \"build_year\"] = np.NaN"
   ]
  },
  {
   "cell_type": "code",
   "execution_count": 66,
   "metadata": {
    "_uuid": "de1344a5ce57123b32f3d5f14f28e7b43909913c",
    "collapsed": true
   },
   "outputs": [],
   "source": [
    "# CHECK NUM OF ROOMS\n",
    "# IF NUM ROOM == 0 SET TO NP.NAN\n",
    "bad_index = train[train.num_room == 0].index\n",
    "train.loc[bad_index, \"num_room\"] = np.NaN\n",
    "bad_index = test[test.num_room == 0].index\n",
    "test.loc[bad_index, \"num_room\"] = np.NaN\n",
    "\n",
    "# LIFE SQ / ROOM > MIN ROOM SQ\n",
    "bad_index = [10076, 11621, 17764, 19390, 24007, 26713, 29172]\n",
    "train.loc[bad_index, \"num_room\"] = np.NaN\n",
    "bad_index = [3174, 7313]\n",
    "test.loc[bad_index, \"num_room\"] = np.NaN"
   ]
  },
  {
   "cell_type": "code",
   "execution_count": 69,
   "metadata": {
    "_uuid": "50fbfec031b7f292568a944b89c20b8459404d90",
    "collapsed": true
   },
   "outputs": [],
   "source": [
    "# CHECK FLOOR AND MAX FLOOR\n",
    "# FLOOR == 0 AND MAX FLOOR == 0 SET TO NAN\n",
    "bad_index = train[(train.floor == 0).values & (train.max_floor == 0).values].index\n",
    "train.loc[bad_index, [\"max_floor\", \"floor\"]] = np.NaN\n",
    "bad_index = train[train.floor == 0].index\n",
    "train.loc[bad_index, \"floor\"] = np.NaN\n",
    "bad_index = train[train.max_floor == 0].index\n",
    "train.loc[bad_index, \"max_floor\"] = np.NaN\n",
    "bad_index = test[test.max_floor == 0].index\n",
    "test.loc[bad_index, \"max_floor\"] = np.NaN\n",
    "\n",
    "# CHECK FLOOR < MAX FLOOR \n",
    "bad_index = train[train.floor > train.max_floor].index\n",
    "train.loc[bad_index, \"max_floor\"] = np.NaN\n",
    "bad_index = test[test.floor > test.max_floor].index\n",
    "test.loc[bad_index, \"max_floor\"] = np.NaN\n",
    "train.floor.describe(percentiles= [0.9999])\n",
    "\n",
    "# CHECK FOR OUTLIERS\n",
    "bad_index = [23584]\n",
    "train.loc[bad_index, \"floor\"] = np.NaN"
   ]
  },
  {
   "cell_type": "code",
   "execution_count": 70,
   "metadata": {
    "_cell_guid": "475ab52a-12b3-49ec-b73a-43d0c9e682dd",
    "_uuid": "185c4f5a245a6bf8579fdb0a675606792a5c8ba4"
   },
   "outputs": [
    {
     "name": "stdout",
     "output_type": "stream",
     "text": [
      "1.0    14197\n",
      "2.0     2993\n",
      "5.0     1561\n",
      "4.0     1344\n",
      "6.0      803\n",
      "3.0        1\n",
      "Name: material, dtype: int64\n",
      "1    5241\n",
      "2     958\n",
      "4     619\n",
      "5     487\n",
      "6     356\n",
      "3       1\n",
      "Name: material, dtype: int64\n",
      "2.0     5844\n",
      "3.0     5790\n",
      "1.0     4855\n",
      "4.0      422\n",
      "33.0       1\n",
      "Name: state, dtype: int64\n"
     ]
    },
    {
     "data": {
      "text/plain": [
       "2.0    2662\n",
       "1.0    2266\n",
       "3.0    1913\n",
       "4.0     127\n",
       "Name: state, dtype: int64"
      ]
     },
     "execution_count": 70,
     "metadata": {},
     "output_type": "execute_result"
    }
   ],
   "source": [
    "# CHECK MATERIAL\n",
    "print(train.material.value_counts())\n",
    "print(test.material.value_counts())\n",
    "\n",
    "# CHECK STATE\n",
    "print(train.state.value_counts())\n",
    "bad_index = train[train.state == 33].index\n",
    "train.loc[bad_index, \"state\"] = np.NaN\n",
    "test.state.value_counts()"
   ]
  },
  {
   "cell_type": "code",
   "execution_count": 71,
   "metadata": {
    "_cell_guid": "2e2248f9-48e8-4084-82ca-5457c33845ef",
    "_uuid": "ba84e45dfa193766eb04de6df9ec5cc5f3a19959",
    "collapsed": true
   },
   "outputs": [],
   "source": [
    "# brings error down a lot by removing extreme price per sqm\n",
    "train.loc[train.full_sq == 0, 'full_sq'] = 50\n",
    "train = train[train.price_doc/train.full_sq <= 600000]\n",
    "train = train[train.price_doc/train.full_sq >= 10000]\n",
    "\n",
    "# Add month-year\n",
    "month_year = (train.timestamp.dt.month + train.timestamp.dt.year * 100)\n",
    "month_year_cnt_map = month_year.value_counts().to_dict()\n",
    "train['month_year_cnt'] = month_year.map(month_year_cnt_map)\n",
    "\n",
    "month_year = (test.timestamp.dt.month + test.timestamp.dt.year * 100)\n",
    "month_year_cnt_map = month_year.value_counts().to_dict()\n",
    "test['month_year_cnt'] = month_year.map(month_year_cnt_map)\n",
    "\n",
    "# Add week-year count\n",
    "week_year = (train.timestamp.dt.weekofyear + train.timestamp.dt.year * 100)\n",
    "week_year_cnt_map = week_year.value_counts().to_dict()\n",
    "train['week_year_cnt'] = week_year.map(week_year_cnt_map)\n",
    "\n",
    "week_year = (test.timestamp.dt.weekofyear + test.timestamp.dt.year * 100)\n",
    "week_year_cnt_map = week_year.value_counts().to_dict()\n",
    "test['week_year_cnt'] = week_year.map(week_year_cnt_map)\n",
    "\n",
    "# Add month and day-of-week\n",
    "train['month'] = train.timestamp.dt.month\n",
    "train['dow'] = train.timestamp.dt.dayofweek\n",
    "\n",
    "test['month'] = test.timestamp.dt.month\n",
    "test['dow'] = test.timestamp.dt.dayofweek\n",
    "\n",
    "# Other feature engineering\n",
    "train['rel_floor'] = train['floor'] / train['max_floor'].astype(float)\n",
    "train['rel_kitch_sq'] = train['kitch_sq'] / train['full_sq'].astype(float)\n",
    "\n",
    "test['rel_floor'] = test['floor'] / test['max_floor'].astype(float)\n",
    "test['rel_kitch_sq'] = test['kitch_sq'] / test['full_sq'].astype(float)\n",
    "\n",
    "train.apartment_name=train.sub_area + train['metro_km_avto'].astype(str)\n",
    "test.apartment_name=test.sub_area + train['metro_km_avto'].astype(str)\n",
    "\n",
    "train['room_size'] = train['life_sq'] / train['num_room'].astype(float)\n",
    "test['room_size'] = test['life_sq'] / test['num_room'].astype(float)"
   ]
  },
  {
   "cell_type": "code",
   "execution_count": null,
   "metadata": {
    "_cell_guid": "75fa3050-ffe3-4949-afe8-5201789b7feb",
    "_uuid": "b3c201bb2022bb8c0da61027e77aa761dec80adc",
    "collapsed": true
   },
   "outputs": [],
   "source": [
    "# Every rate is related to the latest quarter, \n",
    "# means 2016_q2_average_price = 2016_q1_average_price * (1 + increment_rate)\n",
    "rate_2016_q2 = 1\n",
    "rate_2016_q1 = rate_2016_q2 / .99903\n",
    "rate_2015_q4 = rate_2016_q1 / .9831\n",
    "rate_2015_q3 = rate_2015_q4 / .9834\n",
    "rate_2015_q2 = rate_2015_q3 / .9815\n",
    "rate_2015_q1 = rate_2015_q2 / .9932\n",
    "rate_2014_q4 = rate_2015_q1 / 1.0112\n",
    "rate_2014_q3 = rate_2014_q4 / 1.0169\n",
    "rate_2014_q2 = rate_2014_q3 / 1.0086\n",
    "rate_2014_q1 = rate_2014_q2 / 1.0126\n",
    "rate_2013_q4 = rate_2014_q1 / 0.9902\n",
    "rate_2013_q3 = rate_2013_q4 / 1.0041\n",
    "rate_2013_q2 = rate_2013_q3 / 1.0044\n",
    "rate_2013_q1 = rate_2013_q2 / 1.0104\n",
    "rate_2012_q4 = rate_2013_q1 / 0.9832\n",
    "rate_2012_q3 = rate_2012_q4 / 1.0277\n",
    "rate_2012_q2 = rate_2012_q3 / 1.0279\n",
    "rate_2012_q1 = rate_2012_q2 / 1.0279\n",
    "rate_2011_q4 = rate_2012_q1 / 1.076\n",
    "rate_2011_q3 = rate_2011_q4 / 1.0236\n",
    "rate_2011_q2 = rate_2011_q3 / 1\n",
    "rate_2011_q1 = rate_2011_q2 / 1.011"
   ]
  },
  {
   "cell_type": "code",
   "execution_count": null,
   "metadata": {
    "_cell_guid": "fe57176a-2620-4e76-a9d0-5fff6e8ff44c",
    "_uuid": "ae955c9327e8a90e5201a3989a1bfa4d9d6fc9da",
    "collapsed": true
   },
   "outputs": [],
   "source": [
    "# test data\n",
    "# the test data's timestamp is between 2015-07-01 to 2016-06-30.\n",
    "test['average_q_price'] = 1\n",
    "\n",
    "test_2016_q2_index = test.loc[test['timestamp'].dt.year == 2016].loc[test['timestamp'].dt.month >= 4].loc[test['timestamp'].dt.month <= 7].index\n",
    "test.loc[test_2016_q2_index, 'average_q_price'] = rate_2016_q2\n",
    "\n",
    "test_2016_q1_index = test.loc[test['timestamp'].dt.year == 2016].loc[test['timestamp'].dt.month >= 1].loc[test['timestamp'].dt.month < 4].index\n",
    "test.loc[test_2016_q1_index, 'average_q_price'] = rate_2016_q1\n",
    "\n",
    "test_2015_q4_index = test.loc[test['timestamp'].dt.year == 2015].loc[test['timestamp'].dt.month >= 10].loc[test['timestamp'].dt.month < 12].index\n",
    "test.loc[test_2015_q4_index, 'average_q_price'] = rate_2015_q4\n",
    "\n",
    "test_2015_q3_index = test.loc[test['timestamp'].dt.year == 2015].loc[test['timestamp'].dt.month >= 7].loc[test['timestamp'].dt.month < 10].index\n",
    "test.loc[test_2015_q3_index, 'average_q_price'] = rate_2015_q3"
   ]
  },
  {
   "cell_type": "code",
   "execution_count": null,
   "metadata": {
    "_cell_guid": "d8034202-5dd0-4ff2-8490-740bd78f85ac",
    "_uuid": "6c17fcaad86f4fa0c99308a506328542f802c4e2",
    "collapsed": true
   },
   "outputs": [],
   "source": [
    "train['average_q_price'] = 1\n",
    "\n",
    "# train 2015\n",
    "train_2015_q4_index = train.loc[train['timestamp'].dt.year == 2015].loc[train['timestamp'].dt.month >= 10].loc[train['timestamp'].dt.month <= 12].index\n",
    "train.loc[train_2015_q4_index, 'average_q_price'] = rate_2015_q4\n",
    "\n",
    "train_2015_q3_index = train.loc[train['timestamp'].dt.year == 2015].loc[train['timestamp'].dt.month >= 7].loc[train['timestamp'].dt.month < 10].index\n",
    "train.loc[train_2015_q3_index, 'average_q_price'] = rate_2015_q3\n",
    "\n",
    "train_2015_q2_index = train.loc[train['timestamp'].dt.year == 2015].loc[train['timestamp'].dt.month >= 4].loc[train['timestamp'].dt.month < 7].index\n",
    "train.loc[train_2015_q2_index, 'average_q_price'] = rate_2015_q2\n",
    "\n",
    "train_2015_q1_index = train.loc[train['timestamp'].dt.year == 2015].loc[train['timestamp'].dt.month >= 1].loc[train['timestamp'].dt.month < 4].index\n",
    "train.loc[train_2015_q1_index, 'average_q_price'] = rate_2015_q1\n",
    "\n",
    "\n",
    "# train 2014\n",
    "train_2014_q4_index = train.loc[train['timestamp'].dt.year == 2014].loc[train['timestamp'].dt.month >= 10].loc[train['timestamp'].dt.month <= 12].index\n",
    "train.loc[train_2014_q4_index, 'average_q_price'] = rate_2014_q4\n",
    "\n",
    "train_2014_q3_index = train.loc[train['timestamp'].dt.year == 2014].loc[train['timestamp'].dt.month >= 7].loc[train['timestamp'].dt.month < 10].index\n",
    "train.loc[train_2014_q3_index, 'average_q_price'] = rate_2014_q3\n",
    "\n",
    "train_2014_q2_index = train.loc[train['timestamp'].dt.year == 2014].loc[train['timestamp'].dt.month >= 4].loc[train['timestamp'].dt.month < 7].index\n",
    "train.loc[train_2014_q2_index, 'average_q_price'] = rate_2014_q2\n",
    "\n",
    "train_2014_q1_index = train.loc[train['timestamp'].dt.year == 2014].loc[train['timestamp'].dt.month >= 1].loc[train['timestamp'].dt.month < 4].index\n",
    "train.loc[train_2014_q1_index, 'average_q_price'] = rate_2014_q1\n",
    "\n",
    "\n",
    "# train 2013\n",
    "train_2013_q4_index = train.loc[train['timestamp'].dt.year == 2013].loc[train['timestamp'].dt.month >= 10].loc[train['timestamp'].dt.month <= 12].index\n",
    "train.loc[train_2013_q4_index, 'average_q_price'] = rate_2013_q4\n",
    "\n",
    "train_2013_q3_index = train.loc[train['timestamp'].dt.year == 2013].loc[train['timestamp'].dt.month >= 7].loc[train['timestamp'].dt.month < 10].index\n",
    "train.loc[train_2013_q3_index, 'average_q_price'] = rate_2013_q3\n",
    "\n",
    "train_2013_q2_index = train.loc[train['timestamp'].dt.year == 2013].loc[train['timestamp'].dt.month >= 4].loc[train['timestamp'].dt.month < 7].index\n",
    "train.loc[train_2013_q2_index, 'average_q_price'] = rate_2013_q2\n",
    "\n",
    "train_2013_q1_index = train.loc[train['timestamp'].dt.year == 2013].loc[train['timestamp'].dt.month >= 1].loc[train['timestamp'].dt.month < 4].index\n",
    "train.loc[train_2013_q1_index, 'average_q_price'] = rate_2013_q1\n",
    "\n",
    "\n",
    "# train 2012\n",
    "train_2012_q4_index = train.loc[train['timestamp'].dt.year == 2012].loc[train['timestamp'].dt.month >= 10].loc[train['timestamp'].dt.month <= 12].index\n",
    "train.loc[train_2012_q4_index, 'average_q_price'] = rate_2012_q4\n",
    "\n",
    "train_2012_q3_index = train.loc[train['timestamp'].dt.year == 2012].loc[train['timestamp'].dt.month >= 7].loc[train['timestamp'].dt.month < 10].index\n",
    "train.loc[train_2012_q3_index, 'average_q_price'] = rate_2012_q3\n",
    "\n",
    "train_2012_q2_index = train.loc[train['timestamp'].dt.year == 2012].loc[train['timestamp'].dt.month >= 4].loc[train['timestamp'].dt.month < 7].index\n",
    "train.loc[train_2012_q2_index, 'average_q_price'] = rate_2012_q2\n",
    "\n",
    "train_2012_q1_index = train.loc[train['timestamp'].dt.year == 2012].loc[train['timestamp'].dt.month >= 1].loc[train['timestamp'].dt.month < 4].index\n",
    "train.loc[train_2012_q1_index, 'average_q_price'] = rate_2012_q1\n",
    "\n",
    "\n",
    "# train 2011\n",
    "train_2011_q4_index = train.loc[train['timestamp'].dt.year == 2011].loc[train['timestamp'].dt.month >= 10].loc[train['timestamp'].dt.month <= 12].index\n",
    "train.loc[train_2011_q4_index, 'average_q_price'] = rate_2011_q4\n",
    "\n",
    "train_2011_q3_index = train.loc[train['timestamp'].dt.year == 2011].loc[train['timestamp'].dt.month >= 7].loc[train['timestamp'].dt.month < 10].index\n",
    "train.loc[train_2011_q3_index, 'average_q_price'] = rate_2011_q3\n",
    "\n",
    "train_2011_q2_index = train.loc[train['timestamp'].dt.year == 2011].loc[train['timestamp'].dt.month >= 4].loc[train['timestamp'].dt.month < 7].index\n",
    "train.loc[train_2011_q2_index, 'average_q_price'] = rate_2011_q2\n",
    "\n",
    "train_2011_q1_index = train.loc[train['timestamp'].dt.year == 2011].loc[train['timestamp'].dt.month >= 1].loc[train['timestamp'].dt.month < 4].index\n",
    "train.loc[train_2011_q1_index, 'average_q_price'] = rate_2011_q1"
   ]
  },
  {
   "cell_type": "code",
   "execution_count": null,
   "metadata": {
    "_uuid": "f4789d6cec317ed4cb7864d78a124a32b432f177",
    "collapsed": true
   },
   "outputs": [],
   "source": [
    "train['price_doc'] = train['price_doc'] * train['average_q_price']\n",
    "\n",
    "print('price changed done')"
   ]
  },
  {
   "cell_type": "code",
   "execution_count": null,
   "metadata": {
    "_cell_guid": "30d4151b-435a-4d2c-a887-a42951835356",
    "_uuid": "4980bb0d32db30ec95313d0a7564a23a5b65def9",
    "collapsed": true
   },
   "outputs": [],
   "source": [
    "y_train = train[\"price_doc\"]\n",
    "id_train = train['id']\n",
    "\n",
    "x_train = train.drop([\"id\", \"timestamp\", \"price_doc\", \"average_q_price\"], axis=1)\n",
    "x_test = test.drop([\"id\", \"timestamp\", \"average_q_price\"], axis=1)\n",
    "\n",
    "num_train = len(x_train)\n",
    "x_all = pd.concat([x_train, x_test])\n",
    "\n",
    "for c in x_all.columns:\n",
    "    if x_all[c].dtype == 'object':\n",
    "        lbl = preprocessing.LabelEncoder()\n",
    "        lbl.fit(list(x_all[c].values))\n",
    "        x_all[c] = lbl.transform(list(x_all[c].values))\n",
    "        #x_train.drop(c,axis=1,inplace=True)\n",
    "\n",
    "x_train = x_all[:num_train]\n",
    "x_test = x_all[num_train:]\n",
    "\n",
    "\n",
    "xgb_params = {\n",
    "    'eta': 0.05,\n",
    "    'max_depth': 6,\n",
    "    'subsample': 0.6,\n",
    "    'colsample_bytree': 1,\n",
    "    'objective': 'reg:linear',\n",
    "    'eval_metric': 'rmse',\n",
    "    'silent': 1\n",
    "}\n",
    "\n",
    "dtrain = xgb.DMatrix(x_train, y_train)\n",
    "dtest = xgb.DMatrix(x_test)\n",
    "\n",
    "# cv_output = xgb.cv(xgb_params, dtrain, num_boost_round=1000, early_stopping_rounds=20,\n",
    "#     verbose_eval=20, show_stdv=False)\n",
    "# cv_output[['train-rmse-mean', 'test-rmse-mean']].plot()\n",
    "# cv_output = xgb.cv(xgb_params, dtrain, num_boost_round=1000, early_stopping_rounds=20, verbose_eval=25, show_stdv=False)\n",
    "# print('best num_boost_rounds = ', len(cv_output))\n",
    "# num_boost_rounds = len(cv_output) \n",
    "\n",
    "print('Training 1st model...')\n",
    "num_boost_rounds = 422\n",
    "model = xgb.train(dict(xgb_params, silent=1), dtrain, num_boost_round=num_boost_rounds, verbose_eval=False)\n",
    "\n",
    "#fig, ax = plt.subplots(1, 1, figsize=(8, 13))\n",
    "#xgb.plot_importance(model, max_num_features=50, height=0.5, ax=ax)\n",
    "\n",
    "y_predict = model.predict(dtest)\n",
    "model_1_output = pd.DataFrame({'id': id_test, 'price_doc': y_predict})\n",
    "sltrain1 =  pd.DataFrame({'id': id_train, 'mdl1': model.predict(dtrain)})\n",
    "print(sltrain1.shape)"
   ]
  },
  {
   "cell_type": "markdown",
   "metadata": {},
   "source": [
    "### 2nd model"
   ]
  },
  {
   "cell_type": "code",
   "execution_count": null,
   "metadata": {
    "_cell_guid": "2e8311ba-5cc6-4d8f-a45a-8a652fe5abe4",
    "_uuid": "ac81c8168a9a2df88b6ede4f476e4e960908a676",
    "collapsed": true
   },
   "outputs": [],
   "source": [
    "train = pd.read_csv('../input/train.csv')\n",
    "test = pd.read_csv('../input/test.csv')\n",
    "id_test = test.id\n",
    "\n",
    "mult = .969\n",
    "\n",
    "y_train = train[\"price_doc\"] * mult + 10\n",
    "id_train = train['id']\n",
    "x_train = train.drop([\"id\", \"timestamp\", \"price_doc\"], axis=1)\n",
    "x_test = test.drop([\"id\", \"timestamp\"], axis=1)\n",
    "\n",
    "for c in x_train.columns:\n",
    "    if x_train[c].dtype == 'object':\n",
    "        lbl = preprocessing.LabelEncoder()\n",
    "        lbl.fit(list(x_train[c].values))\n",
    "        x_train[c] = lbl.transform(list(x_train[c].values))\n",
    "\n",
    "for c in x_test.columns:\n",
    "    if x_test[c].dtype == 'object':\n",
    "        lbl = preprocessing.LabelEncoder()\n",
    "        lbl.fit(list(x_test[c].values))\n",
    "        x_test[c] = lbl.transform(list(x_test[c].values))"
   ]
  },
  {
   "cell_type": "code",
   "execution_count": null,
   "metadata": {
    "_cell_guid": "7593c8f3-9c1e-4f2c-9155-f69f9138d496",
    "_uuid": "657f74f2397baf0196bfe1178adc554e9a041833",
    "collapsed": true
   },
   "outputs": [],
   "source": [
    "xgb_params = {\n",
    "    'eta': 0.05,\n",
    "    'max_depth': 5,\n",
    "    'subsample': 0.7,\n",
    "    'colsample_bytree': 0.7,\n",
    "    'objective': 'reg:linear',\n",
    "    'eval_metric': 'rmse',\n",
    "    'silent': 1\n",
    "}\n",
    "\n",
    "dtrain = xgb.DMatrix(x_train, y_train)\n",
    "dtest = xgb.DMatrix(x_test)\n",
    "\n",
    "# cv_output = xgb.cv(xgb_params, dtrain, num_boost_round=1000, early_stopping_rounds=20, verbose_eval=25, show_stdv=False)\n",
    "# print('best num_boost_rounds = ', len(cv_output))\n",
    "# num_boost_rounds = len(cv_output) # 382\n",
    "\n",
    "print('Training 2nd model...')\n",
    "num_boost_rounds = 391  # This was the CV output, as earlier version shows\n",
    "model = xgb.train(dict(xgb_params, silent=1), dtrain, num_boost_round=num_boost_rounds, verbose_eval=False)"
   ]
  },
  {
   "cell_type": "code",
   "execution_count": null,
   "metadata": {
    "_cell_guid": "9123f7a1-9f54-4df0-a5ec-0352a3758a90",
    "_uuid": "42b68477035c9e52000188b5caaa63f3eb787d87",
    "collapsed": true
   },
   "outputs": [],
   "source": [
    "y_predict = model.predict(dtest)\n",
    "output = pd.DataFrame({'id': id_test, 'price_doc': y_predict})\n",
    "sltrain2 =  pd.DataFrame({'id': id_train, 'mdl2': model.predict(dtrain)})\n",
    "print(sltrain2.shape)"
   ]
  },
  {
   "cell_type": "markdown",
   "metadata": {},
   "source": [
    "### 3rd model"
   ]
  },
  {
   "cell_type": "code",
   "execution_count": null,
   "metadata": {
    "_cell_guid": "9bb01af9-74cc-49b6-abc7-e3e521b3f331",
    "_uuid": "63a8dac2ca9796544b64f496106e8eb0dc112939",
    "collapsed": true
   },
   "outputs": [],
   "source": [
    "df_train = pd.read_csv(\"../input/train.csv\", parse_dates=['timestamp'])\n",
    "df_test = pd.read_csv(\"../input/test.csv\", parse_dates=['timestamp'])\n",
    "df_macro = pd.read_csv(\"../input/macro.csv\", parse_dates=['timestamp'])\n",
    "\n",
    "df_train.drop(df_train[df_train[\"life_sq\"] > 7000].index, inplace=True)"
   ]
  },
  {
   "cell_type": "code",
   "execution_count": null,
   "metadata": {
    "_cell_guid": "7d008fc5-194e-4667-91fb-ef5eeb783615",
    "_uuid": "563664a30a690ec0b36fc23fa09ce4943794bba5",
    "collapsed": true
   },
   "outputs": [],
   "source": [
    "mult = 0.969\n",
    "y_train = df_train['price_doc'].values * mult + 10\n",
    "id_test = df_test['id']\n",
    "id_train = df_train['id']\n",
    "df_train.drop(['id', 'price_doc'], axis=1, inplace=True)\n",
    "df_test.drop(['id'], axis=1, inplace=True)\n",
    "\n",
    "num_train = len(df_train)\n",
    "df_all = pd.concat([df_train, df_test])\n",
    "# Next line just adds a lot of NA columns (becuase \"join\" only works on indexes)\n",
    "# but somewhow it seems to affect the result\n",
    "df_all = df_all.join(df_macro, on='timestamp', rsuffix='_macro')\n",
    "#print(df_all.shape)\n",
    "\n",
    "# Add month-year\n",
    "month_year = (df_all.timestamp.dt.month + df_all.timestamp.dt.year * 100)\n",
    "month_year_cnt_map = month_year.value_counts().to_dict()\n",
    "df_all['month_year_cnt'] = month_year.map(month_year_cnt_map)\n",
    "\n",
    "# Add week-year count\n",
    "week_year = (df_all.timestamp.dt.weekofyear + df_all.timestamp.dt.year * 100)\n",
    "week_year_cnt_map = week_year.value_counts().to_dict()\n",
    "df_all['week_year_cnt'] = week_year.map(week_year_cnt_map)\n",
    "\n",
    "# Add month and day-of-week\n",
    "df_all['month'] = df_all.timestamp.dt.month\n",
    "df_all['dow'] = df_all.timestamp.dt.dayofweek"
   ]
  },
  {
   "cell_type": "code",
   "execution_count": null,
   "metadata": {
    "_cell_guid": "4061d58e-94cc-41a4-875a-c2a5d1d581ae",
    "_uuid": "5476b25a8c64386fee1e4b782d1b4bd4e3dfdd0d",
    "collapsed": true
   },
   "outputs": [],
   "source": [
    "# Other feature engineering\n",
    "df_all['rel_floor'] = df_all['floor'] / df_all['max_floor'].astype(float)\n",
    "df_all['rel_kitch_sq'] = df_all['kitch_sq'] / df_all['full_sq'].astype(float)\n",
    "\n",
    "train['building_name'] = pd.factorize(train.sub_area + train['metro_km_avto'].astype(str))[0]\n",
    "test['building_name'] = pd.factorize(test.sub_area + test['metro_km_avto'].astype(str))[0]\n",
    "\n",
    "def add_time_features(col):\n",
    "    col_month_year = pd.Series(pd.factorize(train[col].astype(str) + month_year.astype(str))[0])\n",
    "    train[col + '_month_year_cnt'] = col_month_year.map(col_month_year.value_counts())\n",
    "\n",
    "    col_week_year = pd.Series(pd.factorize(train[col].astype(str) + week_year.astype(str))[0])\n",
    "    train[col + '_week_year_cnt'] = col_week_year.map(col_week_year.value_counts())\n",
    "\n",
    "add_time_features('building_name')\n",
    "add_time_features('sub_area')\n",
    "\n",
    "def add_time_features(col):\n",
    "    col_month_year = pd.Series(pd.factorize(test[col].astype(str) + month_year.astype(str))[0])\n",
    "    test[col + '_month_year_cnt'] = col_month_year.map(col_month_year.value_counts())\n",
    "\n",
    "    col_week_year = pd.Series(pd.factorize(test[col].astype(str) + week_year.astype(str))[0])\n",
    "    test[col + '_week_year_cnt'] = col_week_year.map(col_week_year.value_counts())\n",
    "\n",
    "add_time_features('building_name')\n",
    "add_time_features('sub_area')"
   ]
  },
  {
   "cell_type": "code",
   "execution_count": null,
   "metadata": {
    "_cell_guid": "a2c57370-1971-4de9-b69b-c02b5b65b6f8",
    "_uuid": "abfc3b3a8c26a7786a329cf3eec538333d01db9a",
    "collapsed": true
   },
   "outputs": [],
   "source": [
    "# Remove timestamp column (may overfit the model in train)\n",
    "df_all.drop(['timestamp', 'timestamp_macro'], axis=1, inplace=True)\n",
    "\n",
    "\n",
    "factorize = lambda t: pd.factorize(t[1])[0]\n",
    "\n",
    "df_obj = df_all.select_dtypes(include=['object'])\n",
    "\n",
    "X_all = np.c_[\n",
    "    df_all.select_dtypes(exclude=['object']).values,\n",
    "    np.array(list(map(factorize, df_obj.iteritems()))).T\n",
    "]\n",
    "\n",
    "\n",
    "X_train = X_all[:num_train]\n",
    "X_test = X_all[num_train:]\n",
    "\n",
    "# Deal with categorical values\n",
    "df_numeric = df_all.select_dtypes(exclude=['object'])\n",
    "df_obj = df_all.select_dtypes(include=['object']).copy()\n",
    "\n",
    "for c in df_obj:\n",
    "    df_obj[c] = pd.factorize(df_obj[c])[0]\n",
    "\n",
    "df_values = pd.concat([df_numeric, df_obj], axis=1)\n",
    "\n",
    "\n",
    "# Convert to numpy values\n",
    "X_all = df_values.values\n",
    "\n",
    "X_train = X_all[:num_train]\n",
    "X_test = X_all[num_train:]\n",
    "\n",
    "df_columns = df_values.columns"
   ]
  },
  {
   "cell_type": "code",
   "execution_count": null,
   "metadata": {
    "_cell_guid": "aaa68579-ce6b-4bad-b5c6-c57826878780",
    "_uuid": "940c5d7ab0cafd1175ee4d896c3acc9d41e85b52",
    "collapsed": true
   },
   "outputs": [],
   "source": [
    "xgb_params = {\n",
    "    'eta': 0.05,\n",
    "    'max_depth': 5,\n",
    "    'subsample': 0.7,\n",
    "    'colsample_bytree': 0.7,\n",
    "    'objective': 'reg:linear',\n",
    "    'eval_metric': 'rmse',\n",
    "    'silent': True\n",
    "}\n",
    "\n",
    "dtrain = xgb.DMatrix(X_train, y_train, feature_names=df_columns)\n",
    "dtest = xgb.DMatrix(X_test, feature_names=df_columns)\n",
    "\n",
    "# cv_output = xgb.cv(xgb_params, dtrain, num_boost_round=1000, early_stopping_rounds=20, verbose_eval=25, show_stdv=False)\n",
    "# print('best num_boost_rounds = ', len(cv_output))\n",
    "# num_boost_rounds = len(cv_output) \n",
    "print('Training 3rd model...')\n",
    "num_boost_rounds = 420  \n",
    "model = xgb.train(dict(xgb_params, silent=1), dtrain, num_boost_round=num_boost_rounds, verbose_eval=False)\n",
    "\n",
    "y_pred = model.predict(dtest)\n",
    "\n",
    "df_sub = pd.DataFrame({'id': id_test, 'price_doc': y_pred})\n",
    "sltrain3 =  pd.DataFrame({'id': id_train, 'mdl3': model.predict(dtrain)})\n",
    "print(sltrain3.shape)"
   ]
  },
  {
   "cell_type": "code",
   "execution_count": null,
   "metadata": {
    "_cell_guid": "71b2772a-1273-4022-8a26-c12c98cd4c7d",
    "_uuid": "24910827712b4cfd739d7ec58c915c6c8891b73c",
    "collapsed": true
   },
   "outputs": [],
   "source": [
    "df_sub.head()\n",
    "first_result = output.merge(df_sub, on=\"id\", suffixes=['_model_2','_model_3'])\n",
    "first_result[\"price_doc\"] = np.exp( .714*np.log(first_result.price_doc_model_2) +\n",
    "                                    .286*np.log(first_result.price_doc_model_3) )  # multiplies out to .5 & .2\n",
    "result = first_result.merge(model_1_output, on=\"id\", suffixes=['_follow','_model_1'])\n",
    "\n",
    "result[\"price_doc\"] = np.exp( .78*np.log(result.price_doc_follow) +\n",
    "                              .22*np.log(result.price_doc_model_1) )\n",
    "result.drop([\"price_doc_model_2\",\"price_doc_model_3\",\"price_doc_follow\",\"price_doc_model_1\"],axis=1,inplace=True)\n",
    "result.head()\n",
    "result.to_csv('sub-mix.csv', index=False)"
   ]
  }
 ],
 "metadata": {
  "kernelspec": {
   "display_name": "Python 3",
   "language": "python",
   "name": "python3"
  },
  "language_info": {
   "codemirror_mode": {
    "name": "ipython",
    "version": 3
   },
   "file_extension": ".py",
   "mimetype": "text/x-python",
   "name": "python",
   "nbconvert_exporter": "python",
   "pygments_lexer": "ipython3",
   "version": "3.6.3"
  }
 },
 "nbformat": 4,
 "nbformat_minor": 1
}
